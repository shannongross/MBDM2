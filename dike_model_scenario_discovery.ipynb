{
 "cells": [
  {
   "cell_type": "markdown",
   "metadata": {},
   "source": [
    "### III. Scenario discovery with PRIM"
   ]
  },
  {
   "cell_type": "code",
   "execution_count": 19,
   "metadata": {
    "scrolled": true
   },
   "outputs": [
    {
     "data": {
      "text/plain": [
       "<Logger EMA (DEBUG)>"
      ]
     },
     "execution_count": 19,
     "metadata": {},
     "output_type": "execute_result"
    }
   ],
   "source": [
    "import pandas as pd\n",
    "import matplotlib.pyplot as plt\n",
    "import seaborn as sns\n",
    "from ema_workbench.analysis import dimensional_stacking\n",
    "\n",
    "from ema_workbench.analysis import prim\n",
    "from ema_workbench.util import ema_logging\n",
    "from ema_workbench import load_results\n",
    "ema_logging.log_to_stderr(ema_logging.INFO)\n",
    "# %matplotlib inline"
   ]
  },
  {
   "cell_type": "code",
   "execution_count": 20,
   "metadata": {},
   "outputs": [
    {
     "name": "stderr",
     "output_type": "stream",
     "text": [
      "[MainProcess/INFO] results loaded succesfully from C:\\Users\\Mikhail\\Python projects\\Model-based decision-making\\final assignment\\open_exploration_10k_4pol_3obj.tar.gz\n"
     ]
    }
   ],
   "source": [
    "experiments, outcomes = load_results('open_exploration_10k_4pol_3obj.tar.gz')"
   ]
  },
  {
   "cell_type": "markdown",
   "metadata": {},
   "source": [
    "#### Preprocess results"
   ]
  },
  {
   "cell_type": "code",
   "execution_count": 21,
   "metadata": {},
   "outputs": [],
   "source": [
    "n_policies = 4 # Number of policies that were under investigation"
   ]
  },
  {
   "cell_type": "code",
   "execution_count": 22,
   "metadata": {},
   "outputs": [],
   "source": [
    "# List of policies is so: policy_0, policy_1, policy_2, policy_3"
   ]
  },
  {
   "cell_type": "code",
   "execution_count": 23,
   "metadata": {},
   "outputs": [],
   "source": [
    "X = pd.DataFrame(experiments)\n",
    "X = X.iloc[:,:-1] # Drop redundant column\n",
    "policy = (X.policy == 'policy_2') # Select rows corresponding to a policy namely policy_0 corresponds to 0 policy, \n",
    "# policy_3 to 4d policy (final one)\n",
    "X = X[X['policy'] == 'policy_2']\n",
    "n_experiments = X.shape[0]\n",
    "X = X.to_records(index=False)"
   ]
  },
  {
   "cell_type": "code",
   "execution_count": 24,
   "metadata": {},
   "outputs": [],
   "source": [
    "# Here n = 1 is policy_0, n = 2 is policy_2, etc.\n",
    "n = 3 # Select number of policy\n",
    "l = int(len(experiments) / n_policies) # An index to slash dataframe"
   ]
  },
  {
   "cell_type": "code",
   "execution_count": 25,
   "metadata": {},
   "outputs": [
    {
     "data": {
      "text/html": [
       "<div>\n",
       "<style scoped>\n",
       "    .dataframe tbody tr th:only-of-type {\n",
       "        vertical-align: middle;\n",
       "    }\n",
       "\n",
       "    .dataframe tbody tr th {\n",
       "        vertical-align: top;\n",
       "    }\n",
       "\n",
       "    .dataframe thead th {\n",
       "        text-align: right;\n",
       "    }\n",
       "</style>\n",
       "<table border=\"1\" class=\"dataframe\">\n",
       "  <thead>\n",
       "    <tr style=\"text-align: right;\">\n",
       "      <th></th>\n",
       "      <th>Expected Annual Damage</th>\n",
       "      <th>Total Investment Costs</th>\n",
       "      <th>Expected Number of Deaths</th>\n",
       "    </tr>\n",
       "  </thead>\n",
       "  <tbody>\n",
       "    <tr>\n",
       "      <th>20000</th>\n",
       "      <td>1.375710e+07</td>\n",
       "      <td>2.122605e+08</td>\n",
       "      <td>0.007436</td>\n",
       "    </tr>\n",
       "    <tr>\n",
       "      <th>20001</th>\n",
       "      <td>4.281128e+07</td>\n",
       "      <td>2.122605e+08</td>\n",
       "      <td>0.027619</td>\n",
       "    </tr>\n",
       "    <tr>\n",
       "      <th>20002</th>\n",
       "      <td>4.404641e+06</td>\n",
       "      <td>2.122605e+08</td>\n",
       "      <td>0.002186</td>\n",
       "    </tr>\n",
       "    <tr>\n",
       "      <th>20003</th>\n",
       "      <td>9.707933e+05</td>\n",
       "      <td>2.122605e+08</td>\n",
       "      <td>0.000625</td>\n",
       "    </tr>\n",
       "    <tr>\n",
       "      <th>20004</th>\n",
       "      <td>2.210717e+06</td>\n",
       "      <td>2.122605e+08</td>\n",
       "      <td>0.001129</td>\n",
       "    </tr>\n",
       "  </tbody>\n",
       "</table>\n",
       "</div>"
      ],
      "text/plain": [
       "       Expected Annual Damage  Total Investment Costs  \\\n",
       "20000            1.375710e+07            2.122605e+08   \n",
       "20001            4.281128e+07            2.122605e+08   \n",
       "20002            4.404641e+06            2.122605e+08   \n",
       "20003            9.707933e+05            2.122605e+08   \n",
       "20004            2.210717e+06            2.122605e+08   \n",
       "\n",
       "       Expected Number of Deaths  \n",
       "20000                   0.007436  \n",
       "20001                   0.027619  \n",
       "20002                   0.002186  \n",
       "20003                   0.000625  \n",
       "20004                   0.001129  "
      ]
     },
     "execution_count": 25,
     "metadata": {},
     "output_type": "execute_result"
    }
   ],
   "source": [
    "pd.DataFrame(outcomes).iloc[int(l * (n - 1)):int(l * n),:].head() # Test"
   ]
  },
  {
   "cell_type": "code",
   "execution_count": 26,
   "metadata": {},
   "outputs": [
    {
     "data": {
      "text/html": [
       "<div>\n",
       "<style scoped>\n",
       "    .dataframe tbody tr th:only-of-type {\n",
       "        vertical-align: middle;\n",
       "    }\n",
       "\n",
       "    .dataframe tbody tr th {\n",
       "        vertical-align: top;\n",
       "    }\n",
       "\n",
       "    .dataframe thead th {\n",
       "        text-align: right;\n",
       "    }\n",
       "</style>\n",
       "<table border=\"1\" class=\"dataframe\">\n",
       "  <thead>\n",
       "    <tr style=\"text-align: right;\">\n",
       "      <th></th>\n",
       "      <th>Expected Annual Damage</th>\n",
       "      <th>Total Investment Costs</th>\n",
       "      <th>Expected Number of Deaths</th>\n",
       "    </tr>\n",
       "  </thead>\n",
       "  <tbody>\n",
       "    <tr>\n",
       "      <th>count</th>\n",
       "      <td>1.000000e+04</td>\n",
       "      <td>1.000000e+04</td>\n",
       "      <td>10000.000000</td>\n",
       "    </tr>\n",
       "    <tr>\n",
       "      <th>mean</th>\n",
       "      <td>1.390367e+07</td>\n",
       "      <td>2.122605e+08</td>\n",
       "      <td>0.008110</td>\n",
       "    </tr>\n",
       "    <tr>\n",
       "      <th>std</th>\n",
       "      <td>1.603595e+07</td>\n",
       "      <td>3.138341e-05</td>\n",
       "      <td>0.014695</td>\n",
       "    </tr>\n",
       "    <tr>\n",
       "      <th>min</th>\n",
       "      <td>0.000000e+00</td>\n",
       "      <td>2.122605e+08</td>\n",
       "      <td>0.000000</td>\n",
       "    </tr>\n",
       "    <tr>\n",
       "      <th>25%</th>\n",
       "      <td>2.274390e+06</td>\n",
       "      <td>2.122605e+08</td>\n",
       "      <td>0.001645</td>\n",
       "    </tr>\n",
       "    <tr>\n",
       "      <th>50%</th>\n",
       "      <td>8.158120e+06</td>\n",
       "      <td>2.122605e+08</td>\n",
       "      <td>0.004147</td>\n",
       "    </tr>\n",
       "    <tr>\n",
       "      <th>75%</th>\n",
       "      <td>2.139724e+07</td>\n",
       "      <td>2.122605e+08</td>\n",
       "      <td>0.011557</td>\n",
       "    </tr>\n",
       "    <tr>\n",
       "      <th>max</th>\n",
       "      <td>5.537087e+08</td>\n",
       "      <td>2.122605e+08</td>\n",
       "      <td>1.041409</td>\n",
       "    </tr>\n",
       "  </tbody>\n",
       "</table>\n",
       "</div>"
      ],
      "text/plain": [
       "       Expected Annual Damage  Total Investment Costs  \\\n",
       "count            1.000000e+04            1.000000e+04   \n",
       "mean             1.390367e+07            2.122605e+08   \n",
       "std              1.603595e+07            3.138341e-05   \n",
       "min              0.000000e+00            2.122605e+08   \n",
       "25%              2.274390e+06            2.122605e+08   \n",
       "50%              8.158120e+06            2.122605e+08   \n",
       "75%              2.139724e+07            2.122605e+08   \n",
       "max              5.537087e+08            2.122605e+08   \n",
       "\n",
       "       Expected Number of Deaths  \n",
       "count               10000.000000  \n",
       "mean                    0.008110  \n",
       "std                     0.014695  \n",
       "min                     0.000000  \n",
       "25%                     0.001645  \n",
       "50%                     0.004147  \n",
       "75%                     0.011557  \n",
       "max                     1.041409  "
      ]
     },
     "execution_count": 26,
     "metadata": {},
     "output_type": "execute_result"
    }
   ],
   "source": [
    "# Check statistics of the given policy\n",
    "pd.DataFrame(outcomes).iloc[int(l * (n - 1)):int(l * n),:].describe() "
   ]
  },
  {
   "cell_type": "code",
   "execution_count": 27,
   "metadata": {},
   "outputs": [
    {
     "name": "stderr",
     "output_type": "stream",
     "text": [
      "C:\\Users\\Mikhail\\Anaconda3\\lib\\site-packages\\matplotlib\\axes\\_axes.py:6462: UserWarning: The 'normed' kwarg is deprecated, and has been replaced by the 'density' kwarg.\n",
      "  warnings.warn(\"The 'normed' kwarg is deprecated, and has been \"\n"
     ]
    },
    {
     "data": {
      "text/plain": [
       "<matplotlib.axes._subplots.AxesSubplot at 0x2059f65add8>"
      ]
     },
     "execution_count": 27,
     "metadata": {},
     "output_type": "execute_result"
    },
    {
     "data": {
      "image/png": "[encoded data removed]",
      "text/plain": [
       "<Figure size 432x288 with 1 Axes>"
      ]
     },
     "metadata": {},
     "output_type": "display_data"
    }
   ],
   "source": [
    "# Check distribution of Expected Number of Deaths under the given policy\n",
    "sns.distplot(pd.DataFrame(outcomes).iloc[int(l * (n - 1)):int(l * n),:]['Expected Number of Deaths'])"
   ]
  },
  {
   "cell_type": "code",
   "execution_count": 28,
   "metadata": {},
   "outputs": [],
   "source": [
    "# Set up the threshold for 'Expected Number of Deaths'\n",
    "# Therefore we will identify cases where our policies are failing\n",
    "threshold = 0.009"
   ]
  },
  {
   "cell_type": "code",
   "execution_count": 29,
   "metadata": {},
   "outputs": [],
   "source": [
    "y = pd.DataFrame(outcomes)\n",
    "y = (y[policy]['Expected Number of Deaths'] > \n",
    "     threshold).astype(int) # Slice by threshold\n",
    "y = y.reset_index(drop = True)"
   ]
  },
  {
   "cell_type": "code",
   "execution_count": 30,
   "metadata": {},
   "outputs": [
    {
     "name": "stdout",
     "output_type": "stream",
     "text": [
      "The number of failures 6498 out of 10000 experiments\n",
      "The number of successes 3502 out of 10000 experiments\n",
      "The percentage of successful cases under the given policy 35.02\n"
     ]
    }
   ],
   "source": [
    "print('The number of failures', n_experiments - y.sum(), 'out of', n_experiments, 'experiments')\n",
    "print('The number of successes', y.sum(), 'out of', n_experiments, 'experiments')\n",
    "print('The percentage of successful cases under the given policy', round(100 - ((n_experiments - y.sum()) / n_experiments) * 100, 2))"
   ]
  },
  {
   "cell_type": "markdown",
   "metadata": {},
   "source": [
    "#### Run PRIM"
   ]
  },
  {
   "cell_type": "code",
   "execution_count": 31,
   "metadata": {},
   "outputs": [
    {
     "name": "stderr",
     "output_type": "stream",
     "text": [
      "[MainProcess/INFO] 10000 points remaining, containing 3502 cases of interest\n",
      "C:\\Users\\Mikhail\\Anaconda3\\lib\\site-packages\\pandas\\core\\frame.py:6201: FutureWarning: Sorting because non-concatenation axis is not aligned. A future version\n",
      "of pandas will change to not sort by default.\n",
      "\n",
      "To accept the future behavior, pass 'sort=True'.\n",
      "\n",
      "To retain the current behavior and silence the warning, pass sort=False\n",
      "\n",
      "  sort=sort)\n",
      "[MainProcess/INFO] mean: 1.0, mass: 0.1493, coverage: 0.4263278126784694, density: 1.0 restricted_dimensions: 4\n"
     ]
    }
   ],
   "source": [
    "prim_alg = prim.Prim(X, y, threshold=0.8, peel_alpha = 0.05)\n",
    "box1 = prim_alg.find_box()"
   ]
  },
  {
   "cell_type": "code",
   "execution_count": 32,
   "metadata": {},
   "outputs": [
    {
     "data": {
      "image/png": "[encoded data removed]",
      "text/plain": [
       "<Figure size 432x288 with 2 Axes>"
      ]
     },
     "metadata": {},
     "output_type": "display_data"
    }
   ],
   "source": [
    "# %matplotlib notebook\n",
    "box1.show_tradeoff()\n",
    "plt.show()"
   ]
  },
  {
   "cell_type": "code",
   "execution_count": 33,
   "metadata": {},
   "outputs": [
    {
     "name": "stdout",
     "output_type": "stream",
     "text": [
      "coverage    0.929183\n",
      "density     0.909193\n",
      "mass          0.3579\n",
      "mean        0.909193\n",
      "res dim            1\n",
      "Name: 20, dtype: object\n",
      "\n",
      "             box 20                    \n",
      "                min       max qp values\n",
      "A.4_pfail  0.000066  0.357938     [0.0]\n",
      "\n"
     ]
    },
    {
     "data": {
      "image/png": "[encoded data removed]",
      "text/plain": [
       "<Figure size 432x288 with 1 Axes>"
      ]
     },
     "metadata": {},
     "output_type": "display_data"
    }
   ],
   "source": [
    "%matplotlib inline\n",
    "box1.inspect(20)\n",
    "box1.inspect(20, style='graph')\n",
    "plt.show()"
   ]
  },
  {
   "cell_type": "code",
   "execution_count": 34,
   "metadata": {},
   "outputs": [
    {
     "data": {
      "image/png": "[encoded data removed]",
      "text/plain": [
       "<Figure size 576x576 with 1 Axes>"
      ]
     },
     "metadata": {},
     "output_type": "display_data"
    }
   ],
   "source": [
    "box1.select(20)\n",
    "fig = box1.show_pairs_scatter()\n",
    "fig.set_size_inches(8,8)\n",
    "plt.show()"
   ]
  },
  {
   "cell_type": "markdown",
   "metadata": {},
   "source": [
    "#### Dimensional stacking"
   ]
  },
  {
   "cell_type": "code",
   "execution_count": 35,
   "metadata": {
    "scrolled": false
   },
   "outputs": [
    {
     "data": {
      "image/png": "[encoded data removed]",
      "text/plain": [
       "<Figure size 720x720 with 4 Axes>"
      ]
     },
     "metadata": {},
     "output_type": "display_data"
    }
   ],
   "source": [
    "# Define the number of levels\n",
    "nr_levels = 2\n",
    "dimensional_stacking.create_pivot_plot(X,y, nr_levels=nr_levels)\n",
    "plt.show()"
   ]
  }
 ],
 "metadata": {
  "kernelspec": {
   "display_name": "Python 3",
   "language": "python",
   "name": "python3"
  },
  "language_info": {
   "codemirror_mode": {
    "name": "ipython",
    "version": 3
   },
   "file_extension": ".py",
   "mimetype": "text/x-python",
   "name": "python",
   "nbconvert_exporter": "python",
   "pygments_lexer": "ipython3",
   "version": "3.6.5"
  }
 },
 "nbformat": 4,
 "nbformat_minor": 2
}
